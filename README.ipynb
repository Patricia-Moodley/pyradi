"# pyradi - Calculating source irradiance"
"Training on how to use pyradi and notebooks to calculate source irradiance from measurements"

"from IPython.display import display"
"from IPython.display import Image"
"from IPython.display import HTML"

"# make pngs at 150 dpi"
"import matplotlib as mpl
"mpl.rc(""savefig"", dpi=75)"
"mpl.rc('figure', figsize=(10,8))"

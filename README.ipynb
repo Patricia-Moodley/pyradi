"# pyradi - Calculating source irradiance"
"Training on how to use pyradi and notebooks to calculate source irradiance from measurements"

